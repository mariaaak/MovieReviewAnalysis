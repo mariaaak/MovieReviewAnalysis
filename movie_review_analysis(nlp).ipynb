{
 "cells": [
  {
   "cell_type": "markdown",
   "metadata": {},
   "source": [
    "# Movie Review Analysis (Natural Language Processing)"
   ]
  },
  {
   "cell_type": "markdown",
   "metadata": {},
   "source": [
    "###### The focus of the project is to perform sentiment analysis on IMBD movie dataset obtained from kaggle. Sentimental analysis is a concept the focuses on analysis by extracting the emotions, opinions of people towards a particular topic from a structured, semi-structured or unstructured textual data. The main objective is to examine the polarity of the review of the movie whether its negative review or positive review using natural language processing techniques. In this project we aim to use Sentiment Analysis on a set of movie reviews given by reviewers and try to understand what their overall reaction to the movie was, i.e. if they liked the movie or they hated it. Also trying to compare how gaussian naïve bayes, multinomial naïve bayes, logistic regression, ada boost classifier, random forest tree and support vector machine algorithms can categorize the polarity correctly. Identifying the model with the best accuracy for perfect prediction of the data reviews."
   ]
  },
  {
   "cell_type": "markdown",
   "metadata": {},
   "source": [
    "## Importing Libraries"
   ]
  },
  {
   "cell_type": "code",
   "execution_count": 1,
   "metadata": {},
   "outputs": [],
   "source": [
    "import pandas as pd\n",
    "import numpy as  np\n",
    "from sklearn.model_selection import train_test_split\n",
    "from sklearn import preprocessing\n",
    "from sklearn.naive_bayes import GaussianNB\n",
    "from sklearn.naive_bayes import MultinomialNB\n",
    "from sklearn.linear_model import LogisticRegression\n",
    "from sklearn.feature_extraction.text import CountVectorizer\n",
    "from sklearn.feature_extraction.text import TfidfVectorizer\n",
    "from sklearn.feature_extraction.text import TfidfTransformer\n",
    "from sklearn.metrics import accuracy_score\n",
    "from sklearn.ensemble import RandomForestClassifier,GradientBoostingClassifier,AdaBoostClassifier\n",
    "from sklearn.model_selection import cross_val_score\n",
    "from sklearn import svm\n",
    "from nltk.corpus import stopwords\n",
    "from nltk.tokenize import word_tokenize\n",
    "from nltk.stem.wordnet import WordNetLemmatizer\n",
    "from nltk.stem.snowball import SnowballStemmer\n",
    "import re\n",
    "import matplotlib.pyplot as plt\n",
    "import seaborn as sn"
   ]
  },
  {
   "cell_type": "code",
   "execution_count": 2,
   "metadata": {},
   "outputs": [],
   "source": [
    "review=pd.read_csv(\"C:\\\\Users\\\\maria\\\\Desktop\\\\MovieReview\\\\imdb_master.csv\",encoding=\"latin-1\")"
   ]
  },
  {
   "cell_type": "code",
   "execution_count": 3,
   "metadata": {},
   "outputs": [],
   "source": [
    "review_pos=review[review['label']==\"pos\"]\n",
    "review_neg=review[review['label']==\"neg\"]"
   ]
  },
  {
   "cell_type": "code",
   "execution_count": 4,
   "metadata": {},
   "outputs": [],
   "source": [
    "review_pos=review_pos[:1000]\n",
    "review_neg=review_neg[:1000]"
   ]
  },
  {
   "cell_type": "code",
   "execution_count": 5,
   "metadata": {},
   "outputs": [
    {
     "data": {
      "text/html": [
       "<div>\n",
       "<style scoped>\n",
       "    .dataframe tbody tr th:only-of-type {\n",
       "        vertical-align: middle;\n",
       "    }\n",
       "\n",
       "    .dataframe tbody tr th {\n",
       "        vertical-align: top;\n",
       "    }\n",
       "\n",
       "    .dataframe thead th {\n",
       "        text-align: right;\n",
       "    }\n",
       "</style>\n",
       "<table border=\"1\" class=\"dataframe\">\n",
       "  <thead>\n",
       "    <tr style=\"text-align: right;\">\n",
       "      <th></th>\n",
       "      <th>Unnamed: 0</th>\n",
       "      <th>type</th>\n",
       "      <th>review</th>\n",
       "      <th>label</th>\n",
       "      <th>file</th>\n",
       "    </tr>\n",
       "  </thead>\n",
       "  <tbody>\n",
       "    <tr>\n",
       "      <th>12500</th>\n",
       "      <td>12500</td>\n",
       "      <td>test</td>\n",
       "      <td>I went and saw this movie last night after bei...</td>\n",
       "      <td>pos</td>\n",
       "      <td>0_10.txt</td>\n",
       "    </tr>\n",
       "    <tr>\n",
       "      <th>12501</th>\n",
       "      <td>12501</td>\n",
       "      <td>test</td>\n",
       "      <td>Actor turned director Bill Paxton follows up h...</td>\n",
       "      <td>pos</td>\n",
       "      <td>10000_7.txt</td>\n",
       "    </tr>\n",
       "    <tr>\n",
       "      <th>12502</th>\n",
       "      <td>12502</td>\n",
       "      <td>test</td>\n",
       "      <td>As a recreational golfer with some knowledge o...</td>\n",
       "      <td>pos</td>\n",
       "      <td>10001_9.txt</td>\n",
       "    </tr>\n",
       "    <tr>\n",
       "      <th>12503</th>\n",
       "      <td>12503</td>\n",
       "      <td>test</td>\n",
       "      <td>I saw this film in a sneak preview, and it is ...</td>\n",
       "      <td>pos</td>\n",
       "      <td>10002_8.txt</td>\n",
       "    </tr>\n",
       "    <tr>\n",
       "      <th>12504</th>\n",
       "      <td>12504</td>\n",
       "      <td>test</td>\n",
       "      <td>Bill Paxton has taken the true story of the 19...</td>\n",
       "      <td>pos</td>\n",
       "      <td>10003_8.txt</td>\n",
       "    </tr>\n",
       "    <tr>\n",
       "      <th>...</th>\n",
       "      <td>...</td>\n",
       "      <td>...</td>\n",
       "      <td>...</td>\n",
       "      <td>...</td>\n",
       "      <td>...</td>\n",
       "    </tr>\n",
       "    <tr>\n",
       "      <th>13495</th>\n",
       "      <td>13495</td>\n",
       "      <td>test</td>\n",
       "      <td>GoldenEye is a masterpiece. The storyline is a...</td>\n",
       "      <td>pos</td>\n",
       "      <td>10897_10.txt</td>\n",
       "    </tr>\n",
       "    <tr>\n",
       "      <th>13496</th>\n",
       "      <td>13496</td>\n",
       "      <td>test</td>\n",
       "      <td>This episode introduces us to the formal dress...</td>\n",
       "      <td>pos</td>\n",
       "      <td>10898_7.txt</td>\n",
       "    </tr>\n",
       "    <tr>\n",
       "      <th>13497</th>\n",
       "      <td>13497</td>\n",
       "      <td>test</td>\n",
       "      <td>\"Lonely among us\" definitely is one of the bes...</td>\n",
       "      <td>pos</td>\n",
       "      <td>10899_8.txt</td>\n",
       "    </tr>\n",
       "    <tr>\n",
       "      <th>13498</th>\n",
       "      <td>13498</td>\n",
       "      <td>test</td>\n",
       "      <td>I love the way he experiments. Ab Tak Chappan ...</td>\n",
       "      <td>pos</td>\n",
       "      <td>1089_10.txt</td>\n",
       "    </tr>\n",
       "    <tr>\n",
       "      <th>13499</th>\n",
       "      <td>13499</td>\n",
       "      <td>test</td>\n",
       "      <td>The movie is really about choices. In the oppr...</td>\n",
       "      <td>pos</td>\n",
       "      <td>108_10.txt</td>\n",
       "    </tr>\n",
       "  </tbody>\n",
       "</table>\n",
       "<p>1000 rows × 5 columns</p>\n",
       "</div>"
      ],
      "text/plain": [
       "       Unnamed: 0  type                                             review  \\\n",
       "12500       12500  test  I went and saw this movie last night after bei...   \n",
       "12501       12501  test  Actor turned director Bill Paxton follows up h...   \n",
       "12502       12502  test  As a recreational golfer with some knowledge o...   \n",
       "12503       12503  test  I saw this film in a sneak preview, and it is ...   \n",
       "12504       12504  test  Bill Paxton has taken the true story of the 19...   \n",
       "...           ...   ...                                                ...   \n",
       "13495       13495  test  GoldenEye is a masterpiece. The storyline is a...   \n",
       "13496       13496  test  This episode introduces us to the formal dress...   \n",
       "13497       13497  test  \"Lonely among us\" definitely is one of the bes...   \n",
       "13498       13498  test  I love the way he experiments. Ab Tak Chappan ...   \n",
       "13499       13499  test  The movie is really about choices. In the oppr...   \n",
       "\n",
       "      label          file  \n",
       "12500   pos      0_10.txt  \n",
       "12501   pos   10000_7.txt  \n",
       "12502   pos   10001_9.txt  \n",
       "12503   pos   10002_8.txt  \n",
       "12504   pos   10003_8.txt  \n",
       "...     ...           ...  \n",
       "13495   pos  10897_10.txt  \n",
       "13496   pos   10898_7.txt  \n",
       "13497   pos   10899_8.txt  \n",
       "13498   pos   1089_10.txt  \n",
       "13499   pos    108_10.txt  \n",
       "\n",
       "[1000 rows x 5 columns]"
      ]
     },
     "execution_count": 5,
     "metadata": {},
     "output_type": "execute_result"
    }
   ],
   "source": [
    "review_pos"
   ]
  },
  {
   "cell_type": "code",
   "execution_count": 6,
   "metadata": {},
   "outputs": [
    {
     "data": {
      "text/html": [
       "<div>\n",
       "<style scoped>\n",
       "    .dataframe tbody tr th:only-of-type {\n",
       "        vertical-align: middle;\n",
       "    }\n",
       "\n",
       "    .dataframe tbody tr th {\n",
       "        vertical-align: top;\n",
       "    }\n",
       "\n",
       "    .dataframe thead th {\n",
       "        text-align: right;\n",
       "    }\n",
       "</style>\n",
       "<table border=\"1\" class=\"dataframe\">\n",
       "  <thead>\n",
       "    <tr style=\"text-align: right;\">\n",
       "      <th></th>\n",
       "      <th>Unnamed: 0</th>\n",
       "      <th>type</th>\n",
       "      <th>review</th>\n",
       "      <th>label</th>\n",
       "      <th>file</th>\n",
       "    </tr>\n",
       "  </thead>\n",
       "  <tbody>\n",
       "    <tr>\n",
       "      <th>0</th>\n",
       "      <td>0</td>\n",
       "      <td>test</td>\n",
       "      <td>Once again Mr. Costner has dragged out a movie...</td>\n",
       "      <td>neg</td>\n",
       "      <td>0_2.txt</td>\n",
       "    </tr>\n",
       "    <tr>\n",
       "      <th>1</th>\n",
       "      <td>1</td>\n",
       "      <td>test</td>\n",
       "      <td>This is an example of why the majority of acti...</td>\n",
       "      <td>neg</td>\n",
       "      <td>10000_4.txt</td>\n",
       "    </tr>\n",
       "    <tr>\n",
       "      <th>2</th>\n",
       "      <td>2</td>\n",
       "      <td>test</td>\n",
       "      <td>First of all I hate those moronic rappers, who...</td>\n",
       "      <td>neg</td>\n",
       "      <td>10001_1.txt</td>\n",
       "    </tr>\n",
       "    <tr>\n",
       "      <th>3</th>\n",
       "      <td>3</td>\n",
       "      <td>test</td>\n",
       "      <td>Not even the Beatles could write songs everyon...</td>\n",
       "      <td>neg</td>\n",
       "      <td>10002_3.txt</td>\n",
       "    </tr>\n",
       "    <tr>\n",
       "      <th>4</th>\n",
       "      <td>4</td>\n",
       "      <td>test</td>\n",
       "      <td>Brass pictures (movies is not a fitting word f...</td>\n",
       "      <td>neg</td>\n",
       "      <td>10003_3.txt</td>\n",
       "    </tr>\n",
       "    <tr>\n",
       "      <th>...</th>\n",
       "      <td>...</td>\n",
       "      <td>...</td>\n",
       "      <td>...</td>\n",
       "      <td>...</td>\n",
       "      <td>...</td>\n",
       "    </tr>\n",
       "    <tr>\n",
       "      <th>995</th>\n",
       "      <td>995</td>\n",
       "      <td>test</td>\n",
       "      <td>A young woman, Nicole Carrow (Jaimie Alexander...</td>\n",
       "      <td>neg</td>\n",
       "      <td>10897_4.txt</td>\n",
       "    </tr>\n",
       "    <tr>\n",
       "      <th>996</th>\n",
       "      <td>996</td>\n",
       "      <td>test</td>\n",
       "      <td>I've never made one of these before, but this ...</td>\n",
       "      <td>neg</td>\n",
       "      <td>10898_2.txt</td>\n",
       "    </tr>\n",
       "    <tr>\n",
       "      <th>997</th>\n",
       "      <td>997</td>\n",
       "      <td>test</td>\n",
       "      <td>If you just want gore, and nothing but gore an...</td>\n",
       "      <td>neg</td>\n",
       "      <td>10899_1.txt</td>\n",
       "    </tr>\n",
       "    <tr>\n",
       "      <th>998</th>\n",
       "      <td>998</td>\n",
       "      <td>test</td>\n",
       "      <td>We have given this film one star for awful, ho...</td>\n",
       "      <td>neg</td>\n",
       "      <td>1089_1.txt</td>\n",
       "    </tr>\n",
       "    <tr>\n",
       "      <th>999</th>\n",
       "      <td>999</td>\n",
       "      <td>test</td>\n",
       "      <td>Every movie I have PPV'd because Leonard Malti...</td>\n",
       "      <td>neg</td>\n",
       "      <td>108_2.txt</td>\n",
       "    </tr>\n",
       "  </tbody>\n",
       "</table>\n",
       "<p>1000 rows × 5 columns</p>\n",
       "</div>"
      ],
      "text/plain": [
       "     Unnamed: 0  type                                             review  \\\n",
       "0             0  test  Once again Mr. Costner has dragged out a movie...   \n",
       "1             1  test  This is an example of why the majority of acti...   \n",
       "2             2  test  First of all I hate those moronic rappers, who...   \n",
       "3             3  test  Not even the Beatles could write songs everyon...   \n",
       "4             4  test  Brass pictures (movies is not a fitting word f...   \n",
       "..          ...   ...                                                ...   \n",
       "995         995  test  A young woman, Nicole Carrow (Jaimie Alexander...   \n",
       "996         996  test  I've never made one of these before, but this ...   \n",
       "997         997  test  If you just want gore, and nothing but gore an...   \n",
       "998         998  test  We have given this film one star for awful, ho...   \n",
       "999         999  test  Every movie I have PPV'd because Leonard Malti...   \n",
       "\n",
       "    label         file  \n",
       "0     neg      0_2.txt  \n",
       "1     neg  10000_4.txt  \n",
       "2     neg  10001_1.txt  \n",
       "3     neg  10002_3.txt  \n",
       "4     neg  10003_3.txt  \n",
       "..    ...          ...  \n",
       "995   neg  10897_4.txt  \n",
       "996   neg  10898_2.txt  \n",
       "997   neg  10899_1.txt  \n",
       "998   neg   1089_1.txt  \n",
       "999   neg    108_2.txt  \n",
       "\n",
       "[1000 rows x 5 columns]"
      ]
     },
     "execution_count": 6,
     "metadata": {},
     "output_type": "execute_result"
    }
   ],
   "source": [
    "review_neg"
   ]
  },
  {
   "cell_type": "code",
   "execution_count": 7,
   "metadata": {},
   "outputs": [],
   "source": [
    "review=review_pos.append(review_neg,ignore_index=True)"
   ]
  },
  {
   "cell_type": "code",
   "execution_count": 8,
   "metadata": {},
   "outputs": [
    {
     "data": {
      "text/html": [
       "<div>\n",
       "<style scoped>\n",
       "    .dataframe tbody tr th:only-of-type {\n",
       "        vertical-align: middle;\n",
       "    }\n",
       "\n",
       "    .dataframe tbody tr th {\n",
       "        vertical-align: top;\n",
       "    }\n",
       "\n",
       "    .dataframe thead th {\n",
       "        text-align: right;\n",
       "    }\n",
       "</style>\n",
       "<table border=\"1\" class=\"dataframe\">\n",
       "  <thead>\n",
       "    <tr style=\"text-align: right;\">\n",
       "      <th></th>\n",
       "      <th>Unnamed: 0</th>\n",
       "      <th>type</th>\n",
       "      <th>review</th>\n",
       "      <th>label</th>\n",
       "      <th>file</th>\n",
       "    </tr>\n",
       "  </thead>\n",
       "  <tbody>\n",
       "    <tr>\n",
       "      <th>0</th>\n",
       "      <td>12500</td>\n",
       "      <td>test</td>\n",
       "      <td>I went and saw this movie last night after bei...</td>\n",
       "      <td>pos</td>\n",
       "      <td>0_10.txt</td>\n",
       "    </tr>\n",
       "    <tr>\n",
       "      <th>1</th>\n",
       "      <td>12501</td>\n",
       "      <td>test</td>\n",
       "      <td>Actor turned director Bill Paxton follows up h...</td>\n",
       "      <td>pos</td>\n",
       "      <td>10000_7.txt</td>\n",
       "    </tr>\n",
       "    <tr>\n",
       "      <th>2</th>\n",
       "      <td>12502</td>\n",
       "      <td>test</td>\n",
       "      <td>As a recreational golfer with some knowledge o...</td>\n",
       "      <td>pos</td>\n",
       "      <td>10001_9.txt</td>\n",
       "    </tr>\n",
       "    <tr>\n",
       "      <th>3</th>\n",
       "      <td>12503</td>\n",
       "      <td>test</td>\n",
       "      <td>I saw this film in a sneak preview, and it is ...</td>\n",
       "      <td>pos</td>\n",
       "      <td>10002_8.txt</td>\n",
       "    </tr>\n",
       "    <tr>\n",
       "      <th>4</th>\n",
       "      <td>12504</td>\n",
       "      <td>test</td>\n",
       "      <td>Bill Paxton has taken the true story of the 19...</td>\n",
       "      <td>pos</td>\n",
       "      <td>10003_8.txt</td>\n",
       "    </tr>\n",
       "    <tr>\n",
       "      <th>...</th>\n",
       "      <td>...</td>\n",
       "      <td>...</td>\n",
       "      <td>...</td>\n",
       "      <td>...</td>\n",
       "      <td>...</td>\n",
       "    </tr>\n",
       "    <tr>\n",
       "      <th>1995</th>\n",
       "      <td>995</td>\n",
       "      <td>test</td>\n",
       "      <td>A young woman, Nicole Carrow (Jaimie Alexander...</td>\n",
       "      <td>neg</td>\n",
       "      <td>10897_4.txt</td>\n",
       "    </tr>\n",
       "    <tr>\n",
       "      <th>1996</th>\n",
       "      <td>996</td>\n",
       "      <td>test</td>\n",
       "      <td>I've never made one of these before, but this ...</td>\n",
       "      <td>neg</td>\n",
       "      <td>10898_2.txt</td>\n",
       "    </tr>\n",
       "    <tr>\n",
       "      <th>1997</th>\n",
       "      <td>997</td>\n",
       "      <td>test</td>\n",
       "      <td>If you just want gore, and nothing but gore an...</td>\n",
       "      <td>neg</td>\n",
       "      <td>10899_1.txt</td>\n",
       "    </tr>\n",
       "    <tr>\n",
       "      <th>1998</th>\n",
       "      <td>998</td>\n",
       "      <td>test</td>\n",
       "      <td>We have given this film one star for awful, ho...</td>\n",
       "      <td>neg</td>\n",
       "      <td>1089_1.txt</td>\n",
       "    </tr>\n",
       "    <tr>\n",
       "      <th>1999</th>\n",
       "      <td>999</td>\n",
       "      <td>test</td>\n",
       "      <td>Every movie I have PPV'd because Leonard Malti...</td>\n",
       "      <td>neg</td>\n",
       "      <td>108_2.txt</td>\n",
       "    </tr>\n",
       "  </tbody>\n",
       "</table>\n",
       "<p>2000 rows × 5 columns</p>\n",
       "</div>"
      ],
      "text/plain": [
       "      Unnamed: 0  type                                             review  \\\n",
       "0          12500  test  I went and saw this movie last night after bei...   \n",
       "1          12501  test  Actor turned director Bill Paxton follows up h...   \n",
       "2          12502  test  As a recreational golfer with some knowledge o...   \n",
       "3          12503  test  I saw this film in a sneak preview, and it is ...   \n",
       "4          12504  test  Bill Paxton has taken the true story of the 19...   \n",
       "...          ...   ...                                                ...   \n",
       "1995         995  test  A young woman, Nicole Carrow (Jaimie Alexander...   \n",
       "1996         996  test  I've never made one of these before, but this ...   \n",
       "1997         997  test  If you just want gore, and nothing but gore an...   \n",
       "1998         998  test  We have given this film one star for awful, ho...   \n",
       "1999         999  test  Every movie I have PPV'd because Leonard Malti...   \n",
       "\n",
       "     label         file  \n",
       "0      pos     0_10.txt  \n",
       "1      pos  10000_7.txt  \n",
       "2      pos  10001_9.txt  \n",
       "3      pos  10002_8.txt  \n",
       "4      pos  10003_8.txt  \n",
       "...    ...          ...  \n",
       "1995   neg  10897_4.txt  \n",
       "1996   neg  10898_2.txt  \n",
       "1997   neg  10899_1.txt  \n",
       "1998   neg   1089_1.txt  \n",
       "1999   neg    108_2.txt  \n",
       "\n",
       "[2000 rows x 5 columns]"
      ]
     },
     "execution_count": 8,
     "metadata": {},
     "output_type": "execute_result"
    }
   ],
   "source": [
    "review"
   ]
  },
  {
   "cell_type": "markdown",
   "metadata": {},
   "source": [
    "## Count of Positive and Negative Comments"
   ]
  },
  {
   "cell_type": "code",
   "execution_count": 9,
   "metadata": {},
   "outputs": [
    {
     "name": "stdout",
     "output_type": "stream",
     "text": [
      "Positive -  1000\n",
      "Negative -  1000\n"
     ]
    }
   ],
   "source": [
    "review=review.drop(['Unnamed: 0','type','file'],axis=1)\n",
    "\n",
    "print(\"Positive - \",sum(review['label']=='pos'))\n",
    "print(\"Negative - \",sum(review['label']=='neg'))"
   ]
  },
  {
   "cell_type": "markdown",
   "metadata": {},
   "source": [
    "## Label Encoding"
   ]
  },
  {
   "cell_type": "code",
   "execution_count": 10,
   "metadata": {},
   "outputs": [
    {
     "name": "stderr",
     "output_type": "stream",
     "text": [
      "C:\\Users\\maria\\anaconda3\\lib\\site-packages\\pandas\\core\\indexing.py:671: SettingWithCopyWarning: \n",
      "A value is trying to be set on a copy of a slice from a DataFrame\n",
      "\n",
      "See the caveats in the documentation: https://pandas.pydata.org/pandas-docs/stable/user_guide/indexing.html#returning-a-view-versus-a-copy\n",
      "  self._setitem_with_indexer(indexer, value)\n"
     ]
    }
   ],
   "source": [
    "review['label']=review['label'].map({'neg':0,'pos':1})\n",
    "review['review']=review['review'].str.lower()\n",
    "\n",
    "count=-1\n",
    "for s in review['review']:\n",
    "    s=re.sub(\"<.*?>\",\"\",s)\n",
    "    count=count+1\n",
    "    review['review'].iloc[count]=s\n",
    "    \n"
   ]
  },
  {
   "cell_type": "code",
   "execution_count": 11,
   "metadata": {},
   "outputs": [
    {
     "data": {
      "text/plain": [
       "0    i went and saw this movie last night after bei...\n",
       "1    actor turned director bill paxton follows up h...\n",
       "2    as a recreational golfer with some knowledge o...\n",
       "3    i saw this film in a sneak preview, and it is ...\n",
       "4    bill paxton has taken the true story of the 19...\n",
       "Name: review, dtype: object"
      ]
     },
     "execution_count": 11,
     "metadata": {},
     "output_type": "execute_result"
    }
   ],
   "source": [
    "review['review'].head()"
   ]
  },
  {
   "cell_type": "markdown",
   "metadata": {},
   "source": [
    "## Contraction of words"
   ]
  },
  {
   "cell_type": "code",
   "execution_count": 12,
   "metadata": {},
   "outputs": [],
   "source": [
    "\n",
    "contractions_dict = { \n",
    "\"ain't\": \"am not / are not / is not / has not / have not\",\n",
    "\"aren't\": \"are not / am not\",\n",
    "\"can't\": \"cannot\",\n",
    "\"can't've\": \"cannot have\",\n",
    "\"'cause\": \"because\",\n",
    "\"could've\": \"could have\",\n",
    "\"couldn't\": \"could not\",\n",
    "\"could'nt\":\"could not\",\n",
    "\"couldn't've\": \"could not have\",\n",
    "\"didn't\": \"did not\",\n",
    "\"did'nt\":\"did not\",\n",
    "\"doesn't\": \"does not\",\n",
    "\"don't\": \"do not\",\n",
    "\"hadn't\": \"had not\",\n",
    "\"hadn't've\": \"had not have\",\n",
    "\"hasn't\": \"has not\",\n",
    "\"haven't\": \"have not\",\n",
    "\"he'd\": \"he had / he would\",\n",
    "\"he'd've\": \"he would have\",\n",
    "\"he'll\": \"he shall / he will\",\n",
    "\"he'll've\": \"he shall have / he will have\",\n",
    "\"he's\": \"he has / he is\",\n",
    "\"how'd\": \"how did\",\n",
    "\"how'd'y\": \"how do you\",\n",
    "\"how'll\": \"how will\",\n",
    "\"how's\": \"how has / how is / how does\",\n",
    "\"I'd\": \"I had / I would\",\n",
    "\"I'd've\": \"I would have\",\n",
    "\"I'll\": \"I shall / I will\",\n",
    "\"I'll've\": \"I shall have / I will have\",\n",
    "\"I'm\": \"I am\",\n",
    "\"I've\": \"I have\",\n",
    "\"isn't\": \"is not\",\n",
    "\"it'd\": \"it had / it would\",\n",
    "\"it'd've\": \"it would have\",\n",
    "\"it'll\": \"it shall / it will\",\n",
    "\"it'll've\": \"it shall have / it will have\",\n",
    "\"it's\": \"it has / it is\",\n",
    "\"let's\": \"let us\",\n",
    "\"ma'am\": \"madam\",\n",
    "\"mayn't\": \"may not\",\n",
    "\"might've\": \"might have\",\n",
    "\"mightn't\": \"might not\",\n",
    "\"mightn't've\": \"might not have\",\n",
    "\"must've\": \"must have\",\n",
    "\"mustn't\": \"must not\",\n",
    "\"mustn't've\": \"must not have\",\n",
    "\"needn't\": \"need not\",\n",
    "\"needn't've\": \"need not have\",\n",
    "\"o'clock\": \"of the clock\",\n",
    "\"oughtn't\": \"ought not\",\n",
    "\"oughtn't've\": \"ought not have\",\n",
    "\"shan't\": \"shall not\",\n",
    "\"sha'n't\": \"shall not\",\n",
    "\"shan't've\": \"shall not have\",\n",
    "\"she'd\": \"she had / she would\",\n",
    "\"she'd've\": \"she would have\",\n",
    "\"she'll\": \"she shall / she will\",\n",
    "\"she'll've\": \"she shall have / she will have\",\n",
    "\"she's\": \"she has / she is\",\n",
    "\"should've\": \"should have\",\n",
    "\"shouldn't\": \"should not\",\n",
    "\"shouldn't've\": \"should not have\",\n",
    "\"so've\": \"so have\",\n",
    "\"so's\": \"so as / so is\",\n",
    "\"that'd\": \"that would / that had\",\n",
    "\"that'd've\": \"that would have\",\n",
    "\"that's\": \"that has / that is\",\n",
    "\"there'd\": \"there had / there would\",\n",
    "\"there'd've\": \"there would have\",\n",
    "\"there's\": \"there has / there is\",\n",
    "\"they'd\": \"they had / they would\",\n",
    "\"they'd've\": \"they would have\",\n",
    "\"they'll\": \"they shall / they will\",\n",
    "\"they'll've\": \"they shall have / they will have\",\n",
    "\"they're\": \"they are\",\n",
    "\"they've\": \"they have\",\n",
    "\"to've\": \"to have\",\n",
    "\"wasn't\": \"was not\",\n",
    "\"we'd\": \"we had / we would\",\n",
    "\"we'd've\": \"we would have\",\n",
    "\"we'll\": \"we will\",\n",
    "\"we'll've\": \"we will have\",\n",
    "\"we're\": \"we are\",\n",
    "\"we've\": \"we have\",\n",
    "\"weren't\": \"were not\",\n",
    "\"what'll\": \"what shall / what will\",\n",
    "\"what'll've\": \"what shall have / what will have\",\n",
    "\"what're\": \"what are\",\n",
    "\"what's\": \"what has / what is\",\n",
    "\"what've\": \"what have\",\n",
    "\"when's\": \"when has / when is\",\n",
    "\"when've\": \"when have\",\n",
    "\"where'd\": \"where did\",\n",
    "\"where's\": \"where has / where is\",\n",
    "\"where've\": \"where have\",\n",
    "\"who'll\": \"who shall / who will\",\n",
    "\"who'll've\": \"who shall have / who will have\",\n",
    "\"who's\": \"who has / who is\",\n",
    "\"who've\": \"who have\",\n",
    "\"why's\": \"why has / why is\",\n",
    "\"why've\": \"why have\",\n",
    "\"will've\": \"will have\",\n",
    "\"won't\": \"will not\",\n",
    "\"won't've\": \"will not have\",\n",
    "\"would've\": \"would have\",\n",
    "\"wouldn't\": \"would not\",\n",
    "\"wouldn't've\": \"would not have\",\n",
    "\"y'all\": \"you all\",\n",
    "\"y'all'd\": \"you all would\",\n",
    "\"y'all'd've\": \"you all would have\",\n",
    "\"y'all're\": \"you all are\",\n",
    "\"y'all've\": \"you all have\",\n",
    "\"you'd\": \"you had / you would\",\n",
    "\"you'd've\": \"you would have\",\n",
    "\"you'll\": \"you shall / you will\",\n",
    "\"you'll've\": \"you shall have / you will have\",\n",
    "\"you're\": \"you are\",\n",
    "\"you've\": \"you have\"\n",
    "}"
   ]
  },
  {
   "cell_type": "code",
   "execution_count": 13,
   "metadata": {},
   "outputs": [],
   "source": [
    "\n",
    "contractions_re=re.compile('(%s)'%'|'.join(contractions_dict.keys()))\n",
    "def expand_contractions(s,contractions_dict=contractions_dict):\n",
    "    def replace(match):\n",
    "        return contractions_dict[match.group(0)]\n",
    "    return contractions_re.sub(replace,s)"
   ]
  },
  {
   "cell_type": "markdown",
   "metadata": {},
   "source": [
    "## Expanding Contractions"
   ]
  },
  {
   "cell_type": "code",
   "execution_count": 14,
   "metadata": {},
   "outputs": [
    {
     "data": {
      "text/html": [
       "<div>\n",
       "<style scoped>\n",
       "    .dataframe tbody tr th:only-of-type {\n",
       "        vertical-align: middle;\n",
       "    }\n",
       "\n",
       "    .dataframe tbody tr th {\n",
       "        vertical-align: top;\n",
       "    }\n",
       "\n",
       "    .dataframe thead th {\n",
       "        text-align: right;\n",
       "    }\n",
       "</style>\n",
       "<table border=\"1\" class=\"dataframe\">\n",
       "  <thead>\n",
       "    <tr style=\"text-align: right;\">\n",
       "      <th></th>\n",
       "      <th>review</th>\n",
       "      <th>label</th>\n",
       "    </tr>\n",
       "  </thead>\n",
       "  <tbody>\n",
       "    <tr>\n",
       "      <th>0</th>\n",
       "      <td>i went and saw this movie last night after bei...</td>\n",
       "      <td>1</td>\n",
       "    </tr>\n",
       "    <tr>\n",
       "      <th>1</th>\n",
       "      <td>actor turned director bill paxton follows up h...</td>\n",
       "      <td>1</td>\n",
       "    </tr>\n",
       "    <tr>\n",
       "      <th>2</th>\n",
       "      <td>as a recreational golfer with some knowledge o...</td>\n",
       "      <td>1</td>\n",
       "    </tr>\n",
       "    <tr>\n",
       "      <th>3</th>\n",
       "      <td>i saw this film in a sneak preview, and it is ...</td>\n",
       "      <td>1</td>\n",
       "    </tr>\n",
       "    <tr>\n",
       "      <th>4</th>\n",
       "      <td>bill paxton has taken the true story of the 19...</td>\n",
       "      <td>1</td>\n",
       "    </tr>\n",
       "    <tr>\n",
       "      <th>...</th>\n",
       "      <td>...</td>\n",
       "      <td>...</td>\n",
       "    </tr>\n",
       "    <tr>\n",
       "      <th>1995</th>\n",
       "      <td>a young woman, nicole carrow (jaimie alexander...</td>\n",
       "      <td>0</td>\n",
       "    </tr>\n",
       "    <tr>\n",
       "      <th>1996</th>\n",
       "      <td>i've never made one of these before, but this ...</td>\n",
       "      <td>0</td>\n",
       "    </tr>\n",
       "    <tr>\n",
       "      <th>1997</th>\n",
       "      <td>if you just want gore, and nothing but gore an...</td>\n",
       "      <td>0</td>\n",
       "    </tr>\n",
       "    <tr>\n",
       "      <th>1998</th>\n",
       "      <td>we have given this film one star for awful, ho...</td>\n",
       "      <td>0</td>\n",
       "    </tr>\n",
       "    <tr>\n",
       "      <th>1999</th>\n",
       "      <td>every movie i have ppv'd because leonard malti...</td>\n",
       "      <td>0</td>\n",
       "    </tr>\n",
       "  </tbody>\n",
       "</table>\n",
       "<p>2000 rows × 2 columns</p>\n",
       "</div>"
      ],
      "text/plain": [
       "                                                 review  label\n",
       "0     i went and saw this movie last night after bei...      1\n",
       "1     actor turned director bill paxton follows up h...      1\n",
       "2     as a recreational golfer with some knowledge o...      1\n",
       "3     i saw this film in a sneak preview, and it is ...      1\n",
       "4     bill paxton has taken the true story of the 19...      1\n",
       "...                                                 ...    ...\n",
       "1995  a young woman, nicole carrow (jaimie alexander...      0\n",
       "1996  i've never made one of these before, but this ...      0\n",
       "1997  if you just want gore, and nothing but gore an...      0\n",
       "1998  we have given this film one star for awful, ho...      0\n",
       "1999  every movie i have ppv'd because leonard malti...      0\n",
       "\n",
       "[2000 rows x 2 columns]"
      ]
     },
     "execution_count": 14,
     "metadata": {},
     "output_type": "execute_result"
    }
   ],
   "source": [
    "review"
   ]
  },
  {
   "cell_type": "code",
   "execution_count": 15,
   "metadata": {},
   "outputs": [
    {
     "name": "stderr",
     "output_type": "stream",
     "text": [
      "C:\\Users\\maria\\anaconda3\\lib\\site-packages\\pandas\\core\\indexing.py:671: SettingWithCopyWarning: \n",
      "A value is trying to be set on a copy of a slice from a DataFrame\n",
      "\n",
      "See the caveats in the documentation: https://pandas.pydata.org/pandas-docs/stable/user_guide/indexing.html#returning-a-view-versus-a-copy\n",
      "  self._setitem_with_indexer(indexer, value)\n"
     ]
    }
   ],
   "source": [
    "for i in range(0,2000):\n",
    "    review.review.loc[i]=expand_contractions(review.review.loc[i])"
   ]
  },
  {
   "cell_type": "code",
   "execution_count": 16,
   "metadata": {},
   "outputs": [
    {
     "data": {
      "text/plain": [
       "'as a recreational golfer with some knowledge of the sport\\'s history, i was pleased with disney\\'s sensitivity to the issues of class in golf in the early twentieth century. the movie depicted well the psychological battles that harry vardon fought within himself, from his childhood trauma of being evicted to his own inability to break that glass ceiling that prevents him from being accepted as an equal in english golf society. likewise, the young ouimet goes through his own class struggles, being a mere caddie in the eyes of the upper crust americans who scoff at his attempts to rise above his standing. what i loved best, however, is how this theme of class is manifested in the characters of ouimet\\'s parents. his father is a working-class drone who sees the value of hard work but is intimidated by the upper class; his mother, however, recognizes her son\\'s talent and desire and encourages him to pursue his dream of competing against those who think he is inferior.finally, the golf scenes are well photographed. although the course used in the movie was not the actual site of the historical tournament, the little liberties taken by disney do not detract from the beauty of the film. there has / there is one little disney moment at the pool table; otherwise, the viewer does not really think disney. the ending, as in \"miracle,\" is not some disney creation, but one that only human history could have written.'"
      ]
     },
     "execution_count": 16,
     "metadata": {},
     "output_type": "execute_result"
    }
   ],
   "source": [
    "review['review'][2]"
   ]
  },
  {
   "cell_type": "code",
   "execution_count": 17,
   "metadata": {},
   "outputs": [
    {
     "name": "stderr",
     "output_type": "stream",
     "text": [
      "[nltk_data] Downloading package stopwords to\n",
      "[nltk_data]     C:\\Users\\maria\\AppData\\Roaming\\nltk_data...\n",
      "[nltk_data]   Package stopwords is already up-to-date!\n"
     ]
    },
    {
     "data": {
      "text/plain": [
       "True"
      ]
     },
     "execution_count": 17,
     "metadata": {},
     "output_type": "execute_result"
    }
   ],
   "source": [
    "import nltk\n",
    "nltk.download('stopwords')"
   ]
  },
  {
   "cell_type": "code",
   "execution_count": 18,
   "metadata": {},
   "outputs": [],
   "source": [
    "\n",
    "count=-1\n",
    "stop_words=set(stopwords.words('english'))\n",
    "for s in review['review']:\n",
    "    count=count+1\n",
    "    s=[word for word in s.split() if (word not in stop_words and word.isalpha())]\n",
    "    s=' '.join(s)\n",
    "    review['review'].iloc[count]=s\n",
    "    "
   ]
  },
  {
   "cell_type": "code",
   "execution_count": 19,
   "metadata": {},
   "outputs": [
    {
     "data": {
      "text/html": [
       "<div>\n",
       "<style scoped>\n",
       "    .dataframe tbody tr th:only-of-type {\n",
       "        vertical-align: middle;\n",
       "    }\n",
       "\n",
       "    .dataframe tbody tr th {\n",
       "        vertical-align: top;\n",
       "    }\n",
       "\n",
       "    .dataframe thead th {\n",
       "        text-align: right;\n",
       "    }\n",
       "</style>\n",
       "<table border=\"1\" class=\"dataframe\">\n",
       "  <thead>\n",
       "    <tr style=\"text-align: right;\">\n",
       "      <th></th>\n",
       "      <th>review</th>\n",
       "      <th>label</th>\n",
       "    </tr>\n",
       "  </thead>\n",
       "  <tbody>\n",
       "    <tr>\n",
       "      <th>0</th>\n",
       "      <td>went saw movie last night coaxed friends admit...</td>\n",
       "      <td>1</td>\n",
       "    </tr>\n",
       "    <tr>\n",
       "      <th>1</th>\n",
       "      <td>actor turned director bill paxton follows prom...</td>\n",
       "      <td>1</td>\n",
       "    </tr>\n",
       "    <tr>\n",
       "      <th>2</th>\n",
       "      <td>recreational golfer knowledge pleased sensitiv...</td>\n",
       "      <td>1</td>\n",
       "    </tr>\n",
       "    <tr>\n",
       "      <th>3</th>\n",
       "      <td>saw film sneak cinematography unusually acting...</td>\n",
       "      <td>1</td>\n",
       "    </tr>\n",
       "    <tr>\n",
       "      <th>4</th>\n",
       "      <td>bill paxton taken true story us golf open made...</td>\n",
       "      <td>1</td>\n",
       "    </tr>\n",
       "  </tbody>\n",
       "</table>\n",
       "</div>"
      ],
      "text/plain": [
       "                                              review  label\n",
       "0  went saw movie last night coaxed friends admit...      1\n",
       "1  actor turned director bill paxton follows prom...      1\n",
       "2  recreational golfer knowledge pleased sensitiv...      1\n",
       "3  saw film sneak cinematography unusually acting...      1\n",
       "4  bill paxton taken true story us golf open made...      1"
      ]
     },
     "execution_count": 19,
     "metadata": {},
     "output_type": "execute_result"
    }
   ],
   "source": [
    "review.head()"
   ]
  },
  {
   "cell_type": "code",
   "execution_count": 20,
   "metadata": {},
   "outputs": [
    {
     "name": "stderr",
     "output_type": "stream",
     "text": [
      "[nltk_data] Downloading package punkt to\n",
      "[nltk_data]     C:\\Users\\maria\\AppData\\Roaming\\nltk_data...\n",
      "[nltk_data]   Package punkt is already up-to-date!\n",
      "[nltk_data] Downloading package wordnet to\n",
      "[nltk_data]     C:\\Users\\maria\\AppData\\Roaming\\nltk_data...\n",
      "[nltk_data]   Package wordnet is already up-to-date!\n"
     ]
    },
    {
     "data": {
      "text/plain": [
       "True"
      ]
     },
     "execution_count": 20,
     "metadata": {},
     "output_type": "execute_result"
    }
   ],
   "source": [
    "import nltk\n",
    "nltk.download('punkt')\n",
    "nltk.download('wordnet')"
   ]
  },
  {
   "cell_type": "markdown",
   "metadata": {},
   "source": [
    "## Word Tokenization and Stemming"
   ]
  },
  {
   "cell_type": "code",
   "execution_count": 21,
   "metadata": {},
   "outputs": [
    {
     "name": "stderr",
     "output_type": "stream",
     "text": [
      "C:\\Users\\maria\\anaconda3\\lib\\site-packages\\pandas\\core\\indexing.py:671: SettingWithCopyWarning: \n",
      "A value is trying to be set on a copy of a slice from a DataFrame\n",
      "\n",
      "See the caveats in the documentation: https://pandas.pydata.org/pandas-docs/stable/user_guide/indexing.html#returning-a-view-versus-a-copy\n",
      "  self._setitem_with_indexer(indexer, value)\n"
     ]
    }
   ],
   "source": [
    "count=-1\n",
    "stem=[]\n",
    "lemma=WordNetLemmatizer()\n",
    "stemmer=SnowballStemmer('english')\n",
    "for s in review['review']:\n",
    "    count=count+1\n",
    "    word_token=word_tokenize(s)\n",
    "    for word in word_token:\n",
    "        stem.append(stemmer.stem(lemma.lemmatize(word)))\n",
    "    s=' '.join(stem)\n",
    "    review['review'].iloc[count]=s\n",
    "    stem=[]"
   ]
  },
  {
   "cell_type": "markdown",
   "metadata": {},
   "source": [
    "## Creating a Bag of Words"
   ]
  },
  {
   "cell_type": "code",
   "execution_count": 22,
   "metadata": {},
   "outputs": [],
   "source": [
    "\n",
    "#Bag of Words\n",
    "vect=CountVectorizer()\n",
    "bow=vect.fit_transform(review.review)\n",
    "bow=pd.DataFrame(bow.toarray(),columns=list(vect.get_feature_names()))\n",
    "bow.shape\n",
    "xtrbow,xtebow,ytrbow,ytebow=train_test_split(bow,review.label,test_size=0.20)\n"
   ]
  },
  {
   "cell_type": "markdown",
   "metadata": {},
   "source": [
    "## Classification Models Used"
   ]
  },
  {
   "cell_type": "code",
   "execution_count": 23,
   "metadata": {},
   "outputs": [
    {
     "name": "stdout",
     "output_type": "stream",
     "text": [
      "\n",
      " GaussianNB()\n",
      "Mean accuracy for training set -  0.8074999999999999\n",
      "Standard deviation of accuracy -  0.030336652748779\n",
      "Accuracy of test data -  0.815\n",
      "\n",
      " MultinomialNB()\n",
      "Mean accuracy for training set -  0.8993749999999998\n",
      "Standard deviation of accuracy -  0.014306903927824494\n",
      "Accuracy of test data -  0.8825\n",
      "\n",
      " LogisticRegression()\n",
      "Mean accuracy for training set -  0.865\n",
      "Standard deviation of accuracy -  0.021776564237730424\n",
      "Accuracy of test data -  0.8875\n",
      "\n",
      " RandomForestClassifier()\n",
      "Mean accuracy for training set -  0.8331249999999999\n",
      "Standard deviation of accuracy -  0.01763341997458233\n",
      "Accuracy of test data -  0.8475\n",
      "\n",
      " AdaBoostClassifier()\n",
      "Mean accuracy for training set -  0.78125\n",
      "Standard deviation of accuracy -  0.026663411259626936\n",
      "Accuracy of test data -  0.7825\n"
     ]
    },
    {
     "data": {
      "image/png": "[encoded data removed]",
      "text/plain": [
       "<Figure size 720x504 with 2 Axes>"
      ]
     },
     "metadata": {
      "needs_background": "light"
     },
     "output_type": "display_data"
    },
    {
     "data": {
      "image/png": "[encoded data removed]",
      "text/plain": [
       "<Figure size 720x504 with 2 Axes>"
      ]
     },
     "metadata": {},
     "output_type": "display_data"
    },
    {
     "data": {
      "image/png": "[encoded data removed]",
      "text/plain": [
       "<Figure size 720x504 with 2 Axes>"
      ]
     },
     "metadata": {},
     "output_type": "display_data"
    },
    {
     "data": {
      "image/png": "[encoded data removed]",
      "text/plain": [
       "<Figure size 720x504 with 2 Axes>"
      ]
     },
     "metadata": {},
     "output_type": "display_data"
    },
    {
     "data": {
      "image/png": "[encoded data removed]",
      "text/plain": [
       "<Figure size 720x504 with 2 Axes>"
      ]
     },
     "metadata": {},
     "output_type": "display_data"
    }
   ],
   "source": [
    "\n",
    "import warnings\n",
    "warnings.simplefilter(action='ignore',category=FutureWarning)\n",
    "\n",
    "models=[GaussianNB(),MultinomialNB(),LogisticRegression(),RandomForestClassifier(),AdaBoostClassifier()]\n",
    "\n",
    "from sklearn.metrics import confusion_matrix\n",
    "\n",
    "for model in models:\n",
    "    score=cross_val_score(model,xtrbow,ytrbow,cv=5)\n",
    "    print('\\n',model)\n",
    "    print('Mean accuracy for training set - ',score.mean())\n",
    "    print('Standard deviation of accuracy - ',score.std())\n",
    "    model.fit(xtrbow,ytrbow)\n",
    "    pred=model.predict(xtebow)\n",
    "    print(\"Accuracy of test data - \",accuracy_score(ytebow,pred))\n",
    "    data=confusion_matrix(ytebow,pred)\n",
    "    df_cm=pd.DataFrame(data,columns=np.unique(ytebow),index=np.unique(ytebow))\n",
    "    df_cm.index.name=\"Actual\"\n",
    "    df_cm.columns.name=\"Predicted\"\n",
    "    plt.figure(figsize=(10,7))\n",
    "    sn.set(font_scale=1.4)\n",
    "    sn.heatmap(df_cm,cmap=\"Blues\",annot=True,annot_kws={\"size\":10})"
   ]
  },
  {
   "cell_type": "code",
   "execution_count": 24,
   "metadata": {},
   "outputs": [
    {
     "name": "stdout",
     "output_type": "stream",
     "text": [
      "\n",
      "SVM\n",
      "Accuracy score of test -  0.8575\n"
     ]
    },
    {
     "data": {
      "text/plain": [
       "<matplotlib.axes._subplots.AxesSubplot at 0x1cea87b34c0>"
      ]
     },
     "execution_count": 24,
     "metadata": {},
     "output_type": "execute_result"
    },
    {
     "data": {
      "image/png": "[encoded data removed]",
      "text/plain": [
       "<Figure size 432x288 with 2 Axes>"
      ]
     },
     "metadata": {},
     "output_type": "display_data"
    }
   ],
   "source": [
    "\n",
    "print(\"\\nSVM\")\n",
    "model=svm.SVC(kernel='linear',class_weight={0:0.60,1:0.40})\n",
    "model.fit(xtrbow,ytrbow)\n",
    "pred=model.predict(xtebow)\n",
    "print(\"Accuracy score of test - \",accuracy_score(ytebow,pred))\n",
    "\n",
    "df_cm=pd.DataFrame(confusion_matrix(ytebow,pred),columns=np.unique(ytebow),index=np.unique(ytebow))\n",
    "df_cm.index.name=\"Actual\"\n",
    "df_cm.columns.name=\"Predicted\"\n",
    "import seaborn as sn\n",
    "sn.heatmap(df_cm,cmap=\"Blues\",annot=True)\n"
   ]
  },
  {
   "cell_type": "code",
   "execution_count": null,
   "metadata": {},
   "outputs": [],
   "source": []
  }
 ],
 "metadata": {
  "kernelspec": {
   "display_name": "Python 3",
   "language": "python",
   "name": "python3"
  },
  "language_info": {
   "codemirror_mode": {
    "name": "ipython",
    "version": 3
   },
   "file_extension": ".py",
   "mimetype": "text/x-python",
   "name": "python",
   "nbconvert_exporter": "python",
   "pygments_lexer": "ipython3",
   "version": "3.8.3"
  }
 },
 "nbformat": 4,
 "nbformat_minor": 4
}
